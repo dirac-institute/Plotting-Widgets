{
 "cells": [
  {
   "cell_type": "code",
   "execution_count": 19,
   "metadata": {},
   "outputs": [],
   "source": [
    "import os\n",
    "import sys\n",
    "from importlib import reload \n",
    "import numpy as np\n",
    "import ZTFObject\n",
    "import lightcurve_plot\n",
    "from couchbase.cluster import Cluster, PasswordAuthenticator\n",
    "from couchbase.n1ql import N1QLQuery\n",
    "import gzip\n",
    "import io\n",
    "import os\n",
    "import base64\n",
    "from astropy.io import fits\n",
    "from PIL import Image\n",
    "import ipywidgets as w\n",
    "\n",
    "reload(sys.modules['ZTFObject'])\n",
    "from ZTFObject import ZTF_lightcurve\n",
    "reload(sys.modules['lightcurve_plot'])\n",
    "from lightcurve_plot import Lightcurve_plot"
   ]
  },
  {
   "cell_type": "code",
   "execution_count": 20,
   "metadata": {},
   "outputs": [],
   "source": [
    "%matplotlib notebook"
   ]
  },
  {
   "cell_type": "code",
   "execution_count": 21,
   "metadata": {},
   "outputs": [
    {
     "data": {
      "text/plain": [
       "'2.4.0b2.dev1+gf24171e'"
      ]
     },
     "execution_count": 21,
     "metadata": {},
     "output_type": "execute_result"
    }
   ],
   "source": [
    "import couchbase\n",
    "couchbase.__version__"
   ]
  },
  {
   "cell_type": "code",
   "execution_count": 22,
   "metadata": {},
   "outputs": [],
   "source": [
    "#open mariaDB ZTF Alert database and couchbase connection\n",
    "import mysql.connector\n",
    "\n",
    "con = mysql.connector.connect(\n",
    "         user='ztf',\n",
    "         host='140.142.4.22',   #epyc ip address\n",
    "         database='ztf')\n",
    "dbcon=con\n",
    "\n",
    "# open connection and bucket for ZTF images\n",
    "try:\n",
    "    cluster = Cluster('couchbase://localhost')\n",
    "    init = cluster.authenticate(PasswordAuthenticator('genesis', '32gigapix!'))\n",
    "    bucket = cluster.open_bucket(\"ZTF-images\")    \n",
    "except:\n",
    "    print (\"Database connection failed\")\n"
   ]
  },
  {
   "cell_type": "code",
   "execution_count": 23,
   "metadata": {},
   "outputs": [
    {
     "name": "stdout",
     "output_type": "stream",
     "text": [
      "Number of points with images 84\n"
     ]
    }
   ],
   "source": [
    "#extract ZTF object\n",
    "objectId='ZTF18acbwaxk'\n",
    "ztf = ZTF_lightcurve(objectId, con, image=True, couchbase=bucket)"
   ]
  },
  {
   "cell_type": "code",
   "execution_count": 24,
   "metadata": {},
   "outputs": [
    {
     "data": {
      "application/vnd.jupyter.widget-view+json": {
       "model_id": "0b0966961afd431e830661e93bdd8680",
       "version_major": 2,
       "version_minor": 0
      },
      "text/plain": [
       "VBox(children=(Box(children=(HTML(value='<style>.data_input  { background-color:#a3a6b8 !important; }</style>'…"
      ]
     },
     "metadata": {},
     "output_type": "display_data"
    }
   ],
   "source": [
    "plot = Lightcurve_plot()\n",
    "plot.loadZTF(ztf,initial_filt='R')"
   ]
  },
  {
   "cell_type": "code",
   "execution_count": 6,
   "metadata": {},
   "outputs": [
    {
     "name": "stdout",
     "output_type": "stream",
     "text": [
      "bqplot 0.11.6\n",
      "ipywidgets 7.5.1\n",
      "JupyterLab v0.31.5\n",
      "Known labextensions:\n",
      "   app dir: /nvme/cache/epyc/opt/anaconda/share/jupyter/lab\n",
      "@jupyter-widgets/jupyterlab-manager\n",
      "        @jupyter-widgets/jupyterlab-manager v0.34.0 \u001b[32m enabled \u001b[0m \u001b[32mOK\u001b[0m\n",
      "@jupyter-widgets/jupyterlab-sidecar\n",
      "        @jupyter-widgets/jupyterlab-sidecar v0.3.0 \u001b[32m enabled \u001b[0m \u001b[32mOK\u001b[0m\n",
      "\n",
      "Build recommended, please run `jupyter lab build`:\n",
      "    @jupyter-widgets/jupyterlab-sidecar needs to be included in build\n"
     ]
    }
   ],
   "source": [
    "import bqplot as bq\n",
    "print (\"bqplot {}\".format(bq.__version__))\n",
    "import ipywidgets as w\n",
    "print (\"ipywidgets {}\".format(w.__version__))\n",
    "!jupyter labextension list"
   ]
  },
  {
   "cell_type": "code",
   "execution_count": 7,
   "metadata": {},
   "outputs": [
    {
     "ename": "SyntaxError",
     "evalue": "invalid syntax (<ipython-input-7-132c0cf28923>, line 1)",
     "output_type": "error",
     "traceback": [
      "\u001b[0;36m  File \u001b[0;32m\"<ipython-input-7-132c0cf28923>\"\u001b[0;36m, line \u001b[0;32m1\u001b[0m\n\u001b[0;31m    bqplot 0.11.6\u001b[0m\n\u001b[0m              ^\u001b[0m\n\u001b[0;31mSyntaxError\u001b[0m\u001b[0;31m:\u001b[0m invalid syntax\n"
     ]
    }
   ],
   "source": [
    "bqplot 0.11.6\n",
    "ipywidgets 7.5.1\n",
    "JupyterLab v1.04\n",
    "@jupyter-widgets/jupyterlab-manager\n",
    "        @jupyter-widgets/jupyterlab-manager v0.34.0  enabled  OK"
   ]
  },
  {
   "cell_type": "code",
   "execution_count": null,
   "metadata": {},
   "outputs": [],
   "source": [
    "JupyterLab v1.0.2\n",
    "Known labextensions:\n",
    "   app dir: /Users/ajc/miniconda3/envs/developer/share/jupyter/lab\n",
    "        @jupyter-widgets/jupyterlab-manager v1.0.2  enabled  OK\n",
    "        bqplot v0.4.6  enabled  OK\n",
    "        jupyter-matplotlib v0.4.2  enabled  OK\n"
   ]
  }
 ],
 "metadata": {
  "kernelspec": {
   "display_name": "Python 3.7 with widget support (Andy)",
   "language": "python",
   "name": "ajc_widgets_p37"
  },
  "language_info": {
   "codemirror_mode": {
    "name": "ipython",
    "version": 3
   },
   "file_extension": ".py",
   "mimetype": "text/x-python",
   "name": "python",
   "nbconvert_exporter": "python",
   "pygments_lexer": "ipython3",
   "version": "3.6.9"
  }
 },
 "nbformat": 4,
 "nbformat_minor": 4
}
