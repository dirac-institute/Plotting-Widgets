{
 "cells": [
  {
   "cell_type": "code",
   "execution_count": 1,
   "metadata": {},
   "outputs": [],
   "source": [
    "import os\n",
    "import numpy as np\n",
    "import pandas as pd\n",
    "import pickle\n",
    "\n",
    "from bqplot import LinearScale, Axis, Lines, Scatter, Hist, Figure\n",
    "from bqplot.interacts import (\n",
    "    FastIntervalSelector, IndexSelector, BrushIntervalSelector,\n",
    "    BrushSelector, MultiSelector, LassoSelector, PanZoom, HandDraw\n",
    ")\n",
    "from traitlets import link\n",
    "\n",
    "from ipywidgets import ToggleButtons, VBox, HTML, Output"
   ]
  },
  {
   "cell_type": "code",
   "execution_count": 2,
   "metadata": {},
   "outputs": [],
   "source": [
    "ddir = '/epyc/projects/sso-lc/notebooks/aug_29_2019'\n",
    "filename = 't.csv'\n",
    "d = pd.read_csv(os.path.join(ddir, filename))"
   ]
  },
  {
   "cell_type": "code",
   "execution_count": 3,
   "metadata": {},
   "outputs": [],
   "source": [
    "both = d.query('period > 0')"
   ]
  },
  {
   "cell_type": "code",
   "execution_count": 4,
   "metadata": {},
   "outputs": [],
   "source": [
    "def plot_scatter(x=[], y=[], zid=[], color='red', filt=''):\n",
    "    '''Create and return Scatter plot'''\n",
    "    #TODO: tooltip format with all data  \n",
    "    tooltip = bq.Tooltip(fields=['x', 'y', 'zid'], formats=['.2f', '.2f', ''],\n",
    "                        labels=['fit_period', 'lcd_period', 'ztfname'])\n",
    "    sc_x = bq.LinearScale(min=0, max=50)\n",
    "    sc_y = bq.LinearScale(min=0, max=50)\n",
    "    \n",
    "    scatt = bq.Scatter(\n",
    "            scales={'x': sc_x, 'y': sc_y},\n",
    "            tooltip=tooltip,\n",
    "            tooltip_style={'opacity': 0.5},\n",
    "            interactions={'hover': 'tooltip'},\n",
    "            unhovered_style={'opacity': 0.5},\n",
    "            selected_style={'opacity': 1.0, 'fill': 'DarkOrange', 'stroke': 'Red'},\n",
    "            unselected_style={'opacity': 0.5},\n",
    "            display_legend=False)\n",
    "    scatt.colors = [color]\n",
    "    scatt.label = filt\n",
    "    if ((y != [])):\n",
    "        scatt.x = x\n",
    "        scatt.y = y\n",
    "    #scatt.on_element_click(display_info)\n",
    "\n",
    "    return scatt"
   ]
  },
  {
   "cell_type": "code",
   "execution_count": 5,
   "metadata": {},
   "outputs": [
    {
     "data": {
      "application/vnd.jupyter.widget-view+json": {
       "model_id": "9d00b999d3384eccaa1ecd69c3b63f39",
       "version_major": 2,
       "version_minor": 0
      },
      "text/plain": [
       "VBox(children=(Figure(axes=[Axis(label='Fit period', scale=LinearScale(max=60.0, min=0.0), tick_format='0.0f')…"
      ]
     },
     "metadata": {},
     "output_type": "display_data"
    }
   ],
   "source": [
    "table = Output(layout={'border': '1px solid black'})\n",
    "\n",
    "scales = {'x': LinearScale(min=0, max=60.), 'y': LinearScale(min=0, max=60.)}\n",
    "\n",
    "scatt = Scatter(x=d[\"fit_period\"], y=d['period'], scales=scales)\n",
    "\n",
    "ax_x = Axis(scale=scales['x'], tick_format='0.0f', label='Fit period')\n",
    "ax_y = Axis(scale=scales['y'], orientation='vertical', tick_format='0.0f', label='ALCDEF period')\n",
    "\n",
    "selector = BrushIntervalSelector(scale=scales['x'], orientation='horizontal', marks=[scatt])\n",
    "#sel_date = BrushSelector(x_scale=scales['x'], y_scale=scales['y'],marks=[lc2_index], color=\"green\")\n",
    "#intsel_date = BrushSelector(x_scale=dt_x_index, y_scale=lin_y2, marks=[lc2_index])\n",
    "\n",
    "def interval_change_callback(change):\n",
    "    #print (change)\n",
    "    #db_date.value = str(change.new)\n",
    "    index = change.new\n",
    "#    print (df)\n",
    "    with table:\n",
    "        table.clear_output()\n",
    "        if (index != None):\n",
    "            display(d.iloc[index])\n",
    "\n",
    "## Notice here that we call the observe on the Mark lc2_index rather than on the selector intsel_date\n",
    "scatt.observe(interval_change_callback, names=['selected',])\n",
    "\n",
    "fig = Figure(marks=[scatt], axes=[ax_x, ax_y],\n",
    "                       title='Period Plot', interaction=selector)\n",
    "\n",
    "VBox([fig, table])"
   ]
  },
  {
   "cell_type": "code",
   "execution_count": null,
   "metadata": {},
   "outputs": [],
   "source": []
  },
  {
   "cell_type": "code",
   "execution_count": null,
   "metadata": {},
   "outputs": [],
   "source": []
  },
  {
   "cell_type": "code",
   "execution_count": null,
   "metadata": {},
   "outputs": [],
   "source": []
  },
  {
   "cell_type": "code",
   "execution_count": null,
   "metadata": {},
   "outputs": [],
   "source": []
  },
  {
   "cell_type": "code",
   "execution_count": null,
   "metadata": {},
   "outputs": [],
   "source": []
  }
 ],
 "metadata": {
  "kernelspec": {
   "display_name": "Python 3.7 with widget support (Andy)",
   "language": "python",
   "name": "ajc_widgets_p37"
  },
  "language_info": {
   "codemirror_mode": {
    "name": "ipython",
    "version": 3
   },
   "file_extension": ".py",
   "mimetype": "text/x-python",
   "name": "python",
   "nbconvert_exporter": "python",
   "pygments_lexer": "ipython3",
   "version": "3.6.9"
  }
 },
 "nbformat": 4,
 "nbformat_minor": 4
}
